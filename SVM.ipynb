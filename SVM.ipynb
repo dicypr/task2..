{
  "nbformat": 4,
  "nbformat_minor": 0,
  "metadata": {
    "colab": {
      "provenance": [],
      "authorship_tag": "ABX9TyOi93MjAdxaDFWbTbOwdeB0",
      "include_colab_link": true
    },
    "kernelspec": {
      "name": "python3",
      "display_name": "Python 3"
    },
    "language_info": {
      "name": "python"
    }
  },
  "cells": [
    {
      "cell_type": "markdown",
      "metadata": {
        "id": "view-in-github",
        "colab_type": "text"
      },
      "source": [
        "<a href=\"https://colab.research.google.com/github/dicypr/task2../blob/main/SVM.ipynb\" target=\"_parent\"><img src=\"https://colab.research.google.com/assets/colab-badge.svg\" alt=\"Open In Colab\"/></a>"
      ]
    },
    {
      "cell_type": "code",
      "execution_count": 1,
      "metadata": {
        "id": "88TI4KZP8Tvy"
      },
      "outputs": [],
      "source": [
        "import numpy as np\n",
        "from sklearn import datasets\n",
        "from sklearn.model_selection import train_test_split\n",
        "from sklearn.preprocessing import StandardScaler\n",
        "from sklearn.svm import SVC\n",
        "from sklearn.metrics import accuracy_score"
      ]
    },
    {
      "cell_type": "code",
      "source": [
        "# Load the Iris dataset\n",
        "iris = datasets.load_iris()\n",
        "X = iris.data\n",
        "y = iris.target"
      ],
      "metadata": {
        "id": "BMK5xNqd8VaJ"
      },
      "execution_count": 2,
      "outputs": []
    },
    {
      "cell_type": "code",
      "source": [
        "# Split the dataset into training and testing sets (80% train, 20% test)\n",
        "X_train, X_test, y_train, y_test = train_test_split(X, y, test_size=0.2, random_state=42, stratify=y)\n"
      ],
      "metadata": {
        "id": "mBResb7o8dq0"
      },
      "execution_count": 3,
      "outputs": []
    },
    {
      "cell_type": "code",
      "source": [
        "scaler = StandardScaler()\n",
        "X_train_scaled = scaler.fit_transform(X_train)\n",
        "X_test_scaled = scaler.transform(X_test)\n"
      ],
      "metadata": {
        "id": "oYX9kNjl8rxs"
      },
      "execution_count": 4,
      "outputs": []
    },
    {
      "cell_type": "code",
      "source": [
        "print(f\"Data Loaded and Prepared.\")\n",
        "print(f\"Training set shape: {X_train_scaled.shape}\")\n",
        "print(f\"Test set shape: {X_test_scaled.shape}\")\n",
        "print(\"-\" * 30)"
      ],
      "metadata": {
        "colab": {
          "base_uri": "https://localhost:8080/"
        },
        "id": "tKmj0CRH8wXN",
        "outputId": "22f93ffa-d0f6-430c-d968-1f11edcdc1a2"
      },
      "execution_count": 5,
      "outputs": [
        {
          "output_type": "stream",
          "name": "stdout",
          "text": [
            "Data Loaded and Prepared.\n",
            "Training set shape: (120, 4)\n",
            "Test set shape: (30, 4)\n",
            "------------------------------\n"
          ]
        }
      ]
    },
    {
      "cell_type": "markdown",
      "source": [
        "Model Training"
      ],
      "metadata": {
        "id": "FVqYb91e86dF"
      }
    },
    {
      "cell_type": "code",
      "source": [
        "# Train an SVM classifier with a linear kernel\n",
        "print(\"Training SVM with Linear Kernel...\")\n",
        "linear_svm = SVC(kernel='linear', random_state=42)\n",
        "linear_svm.fit(X_train_scaled, y_train)\n",
        "print(\"Linear SVM training complete.\")\n"
      ],
      "metadata": {
        "colab": {
          "base_uri": "https://localhost:8080/"
        },
        "id": "UqCTSzUo81OE",
        "outputId": "9cf26c34-0e2a-43c1-a3cf-78aa0c265895"
      },
      "execution_count": 6,
      "outputs": [
        {
          "output_type": "stream",
          "name": "stdout",
          "text": [
            "Training SVM with Linear Kernel...\n",
            "Linear SVM training complete.\n"
          ]
        }
      ]
    },
    {
      "cell_type": "code",
      "source": [
        "print(\"\\nTraining SVM with RBF Kernel...\")\n",
        "rbf_svm = SVC(kernel='rbf', random_state=42)\n",
        "rbf_svm.fit(X_train_scaled, y_train)\n",
        "print(\"RBF SVM training complete.\")\n",
        "print(\"-\" * 30)\n"
      ],
      "metadata": {
        "colab": {
          "base_uri": "https://localhost:8080/"
        },
        "id": "ZjSPx9rB89r-",
        "outputId": "1a85dce4-6052-451d-dddf-77e4f15e1d52"
      },
      "execution_count": 7,
      "outputs": [
        {
          "output_type": "stream",
          "name": "stdout",
          "text": [
            "\n",
            "Training SVM with RBF Kernel...\n",
            "RBF SVM training complete.\n",
            "------------------------------\n"
          ]
        }
      ]
    },
    {
      "cell_type": "code",
      "source": [
        "# Make predictions on the test set for both models\n",
        "linear_preds = linear_svm.predict(X_test_scaled)\n",
        "rbf_preds = rbf_svm.predict(X_test_scaled)"
      ],
      "metadata": {
        "id": "mpjVDSTq9CAN"
      },
      "execution_count": 8,
      "outputs": []
    },
    {
      "cell_type": "code",
      "source": [
        "# Calculate the accuracy for both models\n",
        "linear_accuracy = accuracy_score(y_test, linear_preds)\n",
        "rbf_accuracy = accuracy_score(y_test, rbf_preds)"
      ],
      "metadata": {
        "id": "fRe8S4wN9FJN"
      },
      "execution_count": 9,
      "outputs": []
    },
    {
      "cell_type": "code",
      "source": [
        "print(\"Evaluation Results:\\n\")\n",
        "print(f\"📈 Accuracy of SVM with Linear Kernel: {linear_accuracy:.4f} ({linear_accuracy * 100:.2f}%)\")\n",
        "print(f\"🎯 Accuracy of SVM with RBF Kernel:   {rbf_accuracy:.4f} ({rbf_accuracy * 100:.2f}%)\")\n"
      ],
      "metadata": {
        "colab": {
          "base_uri": "https://localhost:8080/"
        },
        "id": "KEP3D2qx9KAQ",
        "outputId": "03889a41-0192-4714-b7db-b61cee0b316d"
      },
      "execution_count": 10,
      "outputs": [
        {
          "output_type": "stream",
          "name": "stdout",
          "text": [
            "Evaluation Results:\n",
            "\n",
            "📈 Accuracy of SVM with Linear Kernel: 1.0000 (100.00%)\n",
            "🎯 Accuracy of SVM with RBF Kernel:   0.9667 (96.67%)\n"
          ]
        }
      ]
    },
    {
      "cell_type": "code",
      "source": [],
      "metadata": {
        "id": "dD3xizrY9PjU"
      },
      "execution_count": null,
      "outputs": []
    }
  ]
}